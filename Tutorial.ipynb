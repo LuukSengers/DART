{
 "cells": [
  {
   "cell_type": "code",
   "execution_count": 1,
   "metadata": {
    "ExecuteTime": {
     "end_time": "2021-04-23T13:47:07.711707Z",
     "start_time": "2021-04-23T13:47:06.938597Z"
    }
   },
   "outputs": [],
   "source": [
    "import pandas as pd\n",
    "from swsm import SWSM # this library"
   ]
  },
  {
   "cell_type": "markdown",
   "metadata": {},
   "source": [
    "# Determining key wake steering parameters from cross-sections\n",
    "\n",
    "This section describes how to use the Multiple 1D Gaussian code on vertical cross-sections to obtain the key wake steering parameters used in SWSM.\n",
    "In this example, we have simulated the interaction between a Neutral Boundary Layer and a NREL 5MW turbine (hub height = 90 m, rotor diameter = 126 m).\n",
    "Three yaw angles are considered: 0$^{\\circ}$ ($yaw\\_00.nc$), +30$^{\\circ}$ ($yaw\\_30.nc$) and -30$^{\\circ}$ ($yaw\\_-30.nc$). \n"
   ]
  },
  {
   "cell_type": "code",
   "execution_count": 2,
   "metadata": {
    "ExecuteTime": {
     "end_time": "2021-04-23T13:47:09.423357Z",
     "start_time": "2021-04-23T13:47:07.713069Z"
    },
    "code_folding": [
     0
    ],
    "scrolled": false
   },
   "outputs": [
    {
     "name": "stdout",
     "output_type": "stream",
     "text": [
      "Determining key wake steering parameters\n"
     ]
    },
    {
     "name": "stderr",
     "output_type": "stream",
     "text": [
      "/home/luuk/anaconda3/lib/python3.8/site-packages/scipy/optimize/minpack.py:828: OptimizeWarning: Covariance of the parameters could not be estimated\n",
      "  warnings.warn('Covariance of the parameters could not be estimated',\n"
     ]
    },
    {
     "name": "stdout",
     "output_type": "stream",
     "text": [
      "Done\n"
     ]
    }
   ],
   "source": [
    "sims = ['yaw_00','yaw_30','yaw_-30'] ## Names of simulations\n",
    "testcase = SWSM()\n",
    "testcase.determine_key_parameters(sims)"
   ]
  },
  {
   "cell_type": "markdown",
   "metadata": {},
   "source": [
    "The object SWSM is the main API for this model as is here renamed as wake_model. \n",
    "The first step is to determine the key wake steering parameters from an existing dataset, which is done in $.determine\\_key\\_parameters(sims)$. This function read the netcdf files in $load\\_crosssections(path\\_to\\_file)$. In this example, the netCDF files contain the following information:\n",
    "* x: distance downstream of turbine normalized by rotor diameter; x = 1 .. 10 D\n",
    "* y: lateral location, centered around turbine location and normalized by rotor diameter; -2 D < y < 2 D\n",
    "* z: z: vertical location, centered around hub height and normalized by rotor diameter; -0.7 D < z < 2 D\n",
    "* $u_{normdef}$: the wake deficit normalized by the wind speed at hub height: $u_{normdef} = \\frac{u_{wake} - u_{\\infty}}{u_{\\infty,hh}}$.\n",
    "This variable contains data on each grid point (∆ = 5 m), structured as (z, y, x).\n",
    "\n",
    "If a different data structure is used, it is advised to make changes in this function.\n",
    "\n",
    "Next, $.determine\\_key\\_parameters(sims)$ calls the  $multi1Dgaus(z, y, u)$  function. This function computes the key wake steering parameters for each cross-section.\n",
    "\n",
    "The $determine\\_key\\_parameters(sims)$ function is a wrapper that loops over all simulations (sims) and downstream distances and collects all key wake steering paramters in a dataframe saved as $.key\\_parameters$.\n",
    "\n",
    "This dataframe is structured as follows:\n",
    "* The rows contain the simulations\n",
    "* The columns contain all key wake steering parameters for all downstream locations\n",
    "\n",
    "For example, this test case results a dataframe of size 3x90:\n"
   ]
  },
  {
   "cell_type": "code",
   "execution_count": 3,
   "metadata": {
    "ExecuteTime": {
     "end_time": "2021-04-23T13:47:09.444494Z",
     "start_time": "2021-04-23T13:47:09.424886Z"
    }
   },
   "outputs": [
    {
     "data": {
      "text/html": [
       "<div>\n",
       "<style scoped>\n",
       "    .dataframe tbody tr th:only-of-type {\n",
       "        vertical-align: middle;\n",
       "    }\n",
       "\n",
       "    .dataframe tbody tr th {\n",
       "        vertical-align: top;\n",
       "    }\n",
       "\n",
       "    .dataframe thead th {\n",
       "        text-align: right;\n",
       "    }\n",
       "</style>\n",
       "<table border=\"1\" class=\"dataframe\">\n",
       "  <thead>\n",
       "    <tr style=\"text-align: right;\">\n",
       "      <th></th>\n",
       "      <th>A_z1</th>\n",
       "      <th>mu_y1</th>\n",
       "      <th>mu_z1</th>\n",
       "      <th>sigma_y1</th>\n",
       "      <th>sigma_z1</th>\n",
       "      <th>c1</th>\n",
       "      <th>t1</th>\n",
       "      <th>s_a1</th>\n",
       "      <th>s_b1</th>\n",
       "      <th>A_z2</th>\n",
       "      <th>...</th>\n",
       "      <th>s_b9</th>\n",
       "      <th>A_z10</th>\n",
       "      <th>mu_y10</th>\n",
       "      <th>mu_z10</th>\n",
       "      <th>sigma_y10</th>\n",
       "      <th>sigma_z10</th>\n",
       "      <th>c10</th>\n",
       "      <th>t10</th>\n",
       "      <th>s_a10</th>\n",
       "      <th>s_b10</th>\n",
       "    </tr>\n",
       "  </thead>\n",
       "  <tbody>\n",
       "    <tr>\n",
       "      <th>yaw_00</th>\n",
       "      <td>-0.606948</td>\n",
       "      <td>-0.025295</td>\n",
       "      <td>0.058914</td>\n",
       "      <td>0.444261</td>\n",
       "      <td>0.611884</td>\n",
       "      <td>0.090099</td>\n",
       "      <td>-0.020752</td>\n",
       "      <td>-2.180993</td>\n",
       "      <td>0.012736</td>\n",
       "      <td>-0.638517</td>\n",
       "      <td>...</td>\n",
       "      <td>0.083182</td>\n",
       "      <td>-0.192698</td>\n",
       "      <td>-0.067398</td>\n",
       "      <td>0.052294</td>\n",
       "      <td>0.563203</td>\n",
       "      <td>0.635817</td>\n",
       "      <td>0.092917</td>\n",
       "      <td>0.003870</td>\n",
       "      <td>0.049468</td>\n",
       "      <td>0.043853</td>\n",
       "    </tr>\n",
       "    <tr>\n",
       "      <th>yaw_30</th>\n",
       "      <td>-0.481027</td>\n",
       "      <td>0.047651</td>\n",
       "      <td>0.032145</td>\n",
       "      <td>0.355417</td>\n",
       "      <td>0.625283</td>\n",
       "      <td>0.035730</td>\n",
       "      <td>0.002431</td>\n",
       "      <td>-2.155771</td>\n",
       "      <td>0.050517</td>\n",
       "      <td>-0.499684</td>\n",
       "      <td>...</td>\n",
       "      <td>-0.291038</td>\n",
       "      <td>-0.161804</td>\n",
       "      <td>0.398014</td>\n",
       "      <td>0.109881</td>\n",
       "      <td>0.426172</td>\n",
       "      <td>0.770508</td>\n",
       "      <td>-0.868518</td>\n",
       "      <td>0.474557</td>\n",
       "      <td>0.171546</td>\n",
       "      <td>-0.282656</td>\n",
       "    </tr>\n",
       "    <tr>\n",
       "      <th>yaw_-30</th>\n",
       "      <td>-0.481809</td>\n",
       "      <td>-0.094644</td>\n",
       "      <td>0.066922</td>\n",
       "      <td>0.352879</td>\n",
       "      <td>0.564390</td>\n",
       "      <td>0.143943</td>\n",
       "      <td>-0.022738</td>\n",
       "      <td>-2.145079</td>\n",
       "      <td>-0.068347</td>\n",
       "      <td>-0.497378</td>\n",
       "      <td>...</td>\n",
       "      <td>-0.611295</td>\n",
       "      <td>-0.142702</td>\n",
       "      <td>-0.707627</td>\n",
       "      <td>0.208671</td>\n",
       "      <td>0.501055</td>\n",
       "      <td>0.563897</td>\n",
       "      <td>1.218063</td>\n",
       "      <td>-0.450020</td>\n",
       "      <td>0.916674</td>\n",
       "      <td>-0.605879</td>\n",
       "    </tr>\n",
       "  </tbody>\n",
       "</table>\n",
       "<p>3 rows × 90 columns</p>\n",
       "</div>"
      ],
      "text/plain": [
       "             A_z1     mu_y1     mu_z1  sigma_y1  sigma_z1        c1        t1  \\\n",
       "yaw_00  -0.606948 -0.025295  0.058914  0.444261  0.611884  0.090099 -0.020752   \n",
       "yaw_30  -0.481027  0.047651  0.032145  0.355417  0.625283  0.035730  0.002431   \n",
       "yaw_-30 -0.481809 -0.094644  0.066922  0.352879  0.564390  0.143943 -0.022738   \n",
       "\n",
       "             s_a1      s_b1      A_z2  ...      s_b9     A_z10    mu_y10  \\\n",
       "yaw_00  -2.180993  0.012736 -0.638517  ...  0.083182 -0.192698 -0.067398   \n",
       "yaw_30  -2.155771  0.050517 -0.499684  ... -0.291038 -0.161804  0.398014   \n",
       "yaw_-30 -2.145079 -0.068347 -0.497378  ... -0.611295 -0.142702 -0.707627   \n",
       "\n",
       "           mu_z10  sigma_y10  sigma_z10       c10       t10     s_a10  \\\n",
       "yaw_00   0.052294   0.563203   0.635817  0.092917  0.003870  0.049468   \n",
       "yaw_30   0.109881   0.426172   0.770508 -0.868518  0.474557  0.171546   \n",
       "yaw_-30  0.208671   0.501055   0.563897  1.218063 -0.450020  0.916674   \n",
       "\n",
       "            s_b10  \n",
       "yaw_00   0.043853  \n",
       "yaw_30  -0.282656  \n",
       "yaw_-30 -0.605879  \n",
       "\n",
       "[3 rows x 90 columns]"
      ]
     },
     "execution_count": 3,
     "metadata": {},
     "output_type": "execute_result"
    }
   ],
   "source": [
    "# round(testcase.key_parameters,3)\n",
    "testcase.key_parameters"
   ]
  },
  {
   "cell_type": "markdown",
   "metadata": {},
   "source": [
    "# Specify input parameters\n",
    "In a separate dataframe, we have to specify the input parameters. For the test case, this information\n",
    "is provided in the file input.csv. It simply contains the $yaw$, $shear$ and $C_T$ values for these simulations. As discussed in the paper,\n",
    "other input parameters can be used as long as one cluster is represented."
   ]
  },
  {
   "cell_type": "code",
   "execution_count": 4,
   "metadata": {
    "ExecuteTime": {
     "end_time": "2021-04-23T13:47:09.457259Z",
     "start_time": "2021-04-23T13:47:09.445793Z"
    }
   },
   "outputs": [
    {
     "data": {
      "text/html": [
       "<div>\n",
       "<style scoped>\n",
       "    .dataframe tbody tr th:only-of-type {\n",
       "        vertical-align: middle;\n",
       "    }\n",
       "\n",
       "    .dataframe tbody tr th {\n",
       "        vertical-align: top;\n",
       "    }\n",
       "\n",
       "    .dataframe thead th {\n",
       "        text-align: right;\n",
       "    }\n",
       "</style>\n",
       "<table border=\"1\" class=\"dataframe\">\n",
       "  <thead>\n",
       "    <tr style=\"text-align: right;\">\n",
       "      <th></th>\n",
       "      <th>yaw</th>\n",
       "      <th>shear</th>\n",
       "      <th>Ct</th>\n",
       "    </tr>\n",
       "  </thead>\n",
       "  <tbody>\n",
       "    <tr>\n",
       "      <th>yaw_00</th>\n",
       "      <td>0</td>\n",
       "      <td>0.165</td>\n",
       "      <td>0.74</td>\n",
       "    </tr>\n",
       "    <tr>\n",
       "      <th>yaw_30</th>\n",
       "      <td>30</td>\n",
       "      <td>0.165</td>\n",
       "      <td>0.61</td>\n",
       "    </tr>\n",
       "    <tr>\n",
       "      <th>yaw_-30</th>\n",
       "      <td>-30</td>\n",
       "      <td>0.165</td>\n",
       "      <td>0.61</td>\n",
       "    </tr>\n",
       "  </tbody>\n",
       "</table>\n",
       "</div>"
      ],
      "text/plain": [
       "         yaw  shear    Ct\n",
       "yaw_00     0  0.165  0.74\n",
       "yaw_30    30  0.165  0.61\n",
       "yaw_-30  -30  0.165  0.61"
      ]
     },
     "execution_count": 4,
     "metadata": {},
     "output_type": "execute_result"
    }
   ],
   "source": [
    "df_input = pd.read_csv('data/input.csv',index_col=0)\n",
    "df_input.round(3)"
   ]
  },
  {
   "cell_type": "markdown",
   "metadata": {},
   "source": [
    "# Training\n",
    "\n",
    "Training of the SWMS is done by function $.train_coeffs(df_input,transformations,Ds)$. \n",
    "The input for this function is the following:\n",
    "\n",
    "* $df\\_input$: input parameters of $input.csv$\n",
    "\n",
    "* transformations: the transformations to be applied to the input parameters. Allowed are:\n",
    "    * '' = no transformation\n",
    "    * 'log' = logarithmic\n",
    "    * 'exp' = exponential\n",
    "    * 'rec' = reciprocal (1/x)\n",
    "    * 'sqrt' = square root\n",
    "\n",
    "* Ds: downstream distanced to be used in determination of coefficients. Since this method does not include a near wake description (such as a double Gaussian), it is advised to only consider distances larger than 4 x/D.\n",
    "\n",
    "The key wake steering parameters in $.key\\_parameters$ are used to determine the regression coefficients based on the provided input data. These coefficients are saved in a lookup table called $.dict\\_LUT$."
   ]
  },
  {
   "cell_type": "code",
   "execution_count": 5,
   "metadata": {
    "ExecuteTime": {
     "end_time": "2021-04-23T13:47:09.744165Z",
     "start_time": "2021-04-23T13:47:09.458271Z"
    },
    "code_folding": [
     0
    ]
   },
   "outputs": [
    {
     "name": "stdout",
     "output_type": "stream",
     "text": [
      "Determining coefficients\n",
      "Done\n"
     ]
    },
    {
     "data": {
      "text/plain": [
       "dict_keys(['predictors', 'transformations', 'x/D', 'A_z', 'A_z_i', 'mu_y', 'mu_y_i', 'mu_z', 'mu_z_i', 'sigma_y', 'sigma_y_i', 'sigma_z', 'sigma_z_i', 'c', 'c_i', 't', 't_i', 's_a', 's_a_i', 's_b', 's_b_i'])"
      ]
     },
     "execution_count": 5,
     "metadata": {},
     "output_type": "execute_result"
    }
   ],
   "source": [
    "Ds = range(4,11) ## Distances downstream\n",
    "transformations = ['','',''] ## specify transformations ['','log','exp','rec','sqrt']\n",
    "testcase.train_coeffs(df_input,transformations,Ds) ## execute\n",
    "testcase.dict_LUT.keys()"
   ]
  },
  {
   "cell_type": "markdown",
   "metadata": {},
   "source": [
    "# Testing\n",
    "The coefficients determined above can consequently be used to predict the key wake steering parameters when the input parameters are known.  \n",
    "\n",
    "The function $.run\\_wake\\_model(input\\_values)$ collects the data in the right format and calls the functions $wake\\_model()$. that computes the key wake steering parameters. and $wake\\_composition()$. that composes the a gridded cross-section of the wake from these parameters. Returned are the normalized y and z positions, as well as $u_{normdef}$ (z, y, x).\n",
    "\n",
    "The function $.plot(y,z,u)$ will plot the created cross section at one downstream distance."
   ]
  },
  {
   "cell_type": "code",
   "execution_count": 6,
   "metadata": {
    "ExecuteTime": {
     "end_time": "2021-04-23T13:47:09.747155Z",
     "start_time": "2021-04-23T13:47:09.745200Z"
    }
   },
   "outputs": [],
   "source": [
    "input_values = [15,0.165,0.65] ## input values for new case"
   ]
  },
  {
   "cell_type": "code",
   "execution_count": 7,
   "metadata": {
    "ExecuteTime": {
     "end_time": "2021-04-23T13:47:09.858559Z",
     "start_time": "2021-04-23T13:47:09.748200Z"
    },
    "code_folding": [],
    "scrolled": false
   },
   "outputs": [
    {
     "name": "stdout",
     "output_type": "stream",
     "text": [
      "Predicting wake for following settings: \n",
      " Input parameters: ['yaw', 'shear', 'Ct'] \n",
      " Input values [15, 0.165, 0.65] \n",
      " Transformations:  ['', '', ''] \n",
      " Distances downstream: [ 4  5  6  7  8  9 10]\n",
      "\n",
      "Sucess: The wake parameters(y,z,u_normdef) are saved in .wake_yzu\n"
     ]
    },
    {
     "name": "stderr",
     "output_type": "stream",
     "text": [
      "/home/luuk/Desktop/python/SWSM_wrapper/Publishable/v1.0/swsm/wake_model.py:59: RuntimeWarning: divide by zero encountered in double_scalars\n",
      "  return du*np.exp(-((y-mu)**2)/(2*sigma**2))\n"
     ]
    }
   ],
   "source": [
    "testcase.run_wake_model(input_values) ## execute"
   ]
  },
  {
   "cell_type": "code",
   "execution_count": 8,
   "metadata": {
    "ExecuteTime": {
     "end_time": "2021-04-23T13:47:09.868604Z",
     "start_time": "2021-04-23T13:47:09.859950Z"
    }
   },
   "outputs": [
    {
     "data": {
      "text/plain": [
       "{'y': [-2.0,\n",
       "  -1.9603174603174602,\n",
       "  -1.9206349206349207,\n",
       "  -1.880952380952381,\n",
       "  -1.8412698412698412,\n",
       "  -1.8015873015873016,\n",
       "  -1.7619047619047619,\n",
       "  -1.7222222222222223,\n",
       "  -1.6825396825396826,\n",
       "  -1.6428571428571428,\n",
       "  -1.6031746031746033,\n",
       "  -1.5634920634920635,\n",
       "  -1.5238095238095237,\n",
       "  -1.4841269841269842,\n",
       "  -1.4444444444444444,\n",
       "  -1.4047619047619047,\n",
       "  -1.3650793650793651,\n",
       "  -1.3253968253968254,\n",
       "  -1.2857142857142858,\n",
       "  -1.246031746031746,\n",
       "  -1.2063492063492063,\n",
       "  -1.1666666666666667,\n",
       "  -1.126984126984127,\n",
       "  -1.0873015873015872,\n",
       "  -1.0476190476190477,\n",
       "  -1.007936507936508,\n",
       "  -0.9682539682539683,\n",
       "  -0.9285714285714286,\n",
       "  -0.8888888888888888,\n",
       "  -0.8492063492063492,\n",
       "  -0.8095238095238095,\n",
       "  -0.7698412698412699,\n",
       "  -0.7301587301587301,\n",
       "  -0.6904761904761905,\n",
       "  -0.6507936507936508,\n",
       "  -0.6111111111111112,\n",
       "  -0.5714285714285714,\n",
       "  -0.5317460317460317,\n",
       "  -0.49206349206349204,\n",
       "  -0.4523809523809524,\n",
       "  -0.4126984126984127,\n",
       "  -0.373015873015873,\n",
       "  -0.3333333333333333,\n",
       "  -0.29365079365079366,\n",
       "  -0.25396825396825395,\n",
       "  -0.21428571428571427,\n",
       "  -0.1746031746031746,\n",
       "  -0.1349206349206349,\n",
       "  -0.09523809523809523,\n",
       "  -0.05555555555555555,\n",
       "  -0.015873015873015872,\n",
       "  0.023809523809523808,\n",
       "  0.06349206349206349,\n",
       "  0.10317460317460317,\n",
       "  0.14285714285714285,\n",
       "  0.18253968253968253,\n",
       "  0.2222222222222222,\n",
       "  0.2619047619047619,\n",
       "  0.30158730158730157,\n",
       "  0.3412698412698413,\n",
       "  0.38095238095238093,\n",
       "  0.42063492063492064,\n",
       "  0.4603174603174603,\n",
       "  0.5,\n",
       "  0.5396825396825397,\n",
       "  0.5793650793650794,\n",
       "  0.6190476190476191,\n",
       "  0.6587301587301587,\n",
       "  0.6984126984126984,\n",
       "  0.7380952380952381,\n",
       "  0.7777777777777778,\n",
       "  0.8174603174603174,\n",
       "  0.8571428571428571,\n",
       "  0.8968253968253969,\n",
       "  0.9365079365079365,\n",
       "  0.9761904761904762,\n",
       "  1.0158730158730158,\n",
       "  1.0555555555555556,\n",
       "  1.0952380952380953,\n",
       "  1.1349206349206349,\n",
       "  1.1746031746031746,\n",
       "  1.2142857142857142,\n",
       "  1.253968253968254,\n",
       "  1.2936507936507937,\n",
       "  1.3333333333333333,\n",
       "  1.373015873015873,\n",
       "  1.4126984126984128,\n",
       "  1.4523809523809523,\n",
       "  1.492063492063492,\n",
       "  1.5317460317460319,\n",
       "  1.5714285714285714,\n",
       "  1.6111111111111112,\n",
       "  1.6507936507936507,\n",
       "  1.6904761904761905,\n",
       "  1.7301587301587302,\n",
       "  1.7698412698412698,\n",
       "  1.8095238095238095,\n",
       "  1.8492063492063493,\n",
       "  1.8888888888888888,\n",
       "  1.9285714285714286,\n",
       "  1.9682539682539681],\n",
       " 'z': [-0.7142857142857143,\n",
       "  -0.6746031746031746,\n",
       "  -0.6349206349206349,\n",
       "  -0.5952380952380952,\n",
       "  -0.5555555555555556,\n",
       "  -0.5158730158730159,\n",
       "  -0.47619047619047616,\n",
       "  -0.4365079365079365,\n",
       "  -0.3968253968253968,\n",
       "  -0.35714285714285715,\n",
       "  -0.31746031746031744,\n",
       "  -0.2777777777777778,\n",
       "  -0.23809523809523808,\n",
       "  -0.1984126984126984,\n",
       "  -0.15873015873015872,\n",
       "  -0.11904761904761904,\n",
       "  -0.07936507936507936,\n",
       "  -0.03968253968253968,\n",
       "  0.0,\n",
       "  0.03968253968253968,\n",
       "  0.07936507936507936,\n",
       "  0.11904761904761904,\n",
       "  0.15873015873015872,\n",
       "  0.1984126984126984,\n",
       "  0.23809523809523808,\n",
       "  0.2777777777777778,\n",
       "  0.31746031746031744,\n",
       "  0.35714285714285715,\n",
       "  0.3968253968253968,\n",
       "  0.4365079365079365,\n",
       "  0.47619047619047616,\n",
       "  0.5158730158730159,\n",
       "  0.5555555555555556,\n",
       "  0.5952380952380952,\n",
       "  0.6349206349206349,\n",
       "  0.6746031746031746,\n",
       "  0.7142857142857143,\n",
       "  0.753968253968254,\n",
       "  0.7936507936507936,\n",
       "  0.8333333333333334,\n",
       "  0.873015873015873,\n",
       "  0.9126984126984127,\n",
       "  0.9523809523809523,\n",
       "  0.9920634920634921],\n",
       " 'u_normdef': array([[[-0.00000000e+00, -0.00000000e+00, -0.00000000e+00, ...,\n",
       "          -0.00000000e+00, -0.00000000e+00, -0.00000000e+00],\n",
       "         [-0.00000000e+00, -0.00000000e+00, -0.00000000e+00, ...,\n",
       "          -0.00000000e+00, -0.00000000e+00, -0.00000000e+00],\n",
       "         [-0.00000000e+00, -0.00000000e+00, -0.00000000e+00, ...,\n",
       "          -0.00000000e+00, -0.00000000e+00, -0.00000000e+00],\n",
       "         ...,\n",
       "         [-0.00000000e+00, -0.00000000e+00, -0.00000000e+00, ...,\n",
       "          -0.00000000e+00, -0.00000000e+00, -0.00000000e+00],\n",
       "         [-0.00000000e+00, -0.00000000e+00, -0.00000000e+00, ...,\n",
       "          -0.00000000e+00, -0.00000000e+00, -0.00000000e+00],\n",
       "         [-0.00000000e+00, -0.00000000e+00, -0.00000000e+00, ...,\n",
       "          -0.00000000e+00, -0.00000000e+00, -0.00000000e+00]],\n",
       " \n",
       "        [[-1.38124117e-16, -4.70544333e-12, -3.35371930e-10, ...,\n",
       "          -4.78090255e-09, -1.76692548e-08, -4.95527944e-08],\n",
       "         [-5.81053131e-16, -1.32898784e-11, -7.98970100e-10, ...,\n",
       "          -1.00493344e-08, -3.48872651e-08, -9.31510591e-08],\n",
       "         [-2.37072043e-15, -3.66854329e-11, -1.86668424e-09, ...,\n",
       "          -2.07756571e-08, -6.78463511e-08, -1.72657074e-07],\n",
       "         ...,\n",
       "         [-1.44027580e-18, -3.80909062e-15, -1.75777923e-13, ...,\n",
       "          -1.06696489e-11, -7.64004578e-11, -2.85666396e-10],\n",
       "         [-3.02532553e-19, -1.13987044e-15, -6.20221441e-14, ...,\n",
       "          -4.40761241e-12, -3.41044268e-11, -1.34870914e-10],\n",
       "         [-6.16334849e-20, -3.33381776e-16, -2.14617800e-14, ...,\n",
       "          -1.79079852e-12, -1.49946532e-11, -6.27847801e-11]],\n",
       " \n",
       "        [[-3.40991734e-10, -1.21805269e-07, -1.36061219e-06, ...,\n",
       "          -6.20767705e-06, -1.28952041e-05, -2.24633297e-05],\n",
       "         [-7.72838113e-10, -2.20617338e-07, -2.23790033e-06, ...,\n",
       "          -9.49591910e-06, -1.90265926e-05, -3.22233791e-05],\n",
       "         [-1.72171863e-09, -3.94473248e-07, -3.64071273e-06, ...,\n",
       "          -1.43909447e-05, -2.78347571e-05, -4.58589180e-05],\n",
       "         ...,\n",
       "         [-7.02595069e-11, -5.90145554e-09, -4.83624278e-08, ...,\n",
       "          -4.05766952e-07, -1.12050689e-06, -2.17457538e-06],\n",
       "         [-2.95045227e-11, -3.02384255e-09, -2.71684559e-08, ...,\n",
       "          -2.48563073e-07, -7.16344632e-07, -1.43396114e-06],\n",
       "         [-1.21787035e-11, -1.52954958e-09, -1.50959730e-08, ...,\n",
       "          -1.50848486e-07, -4.54070315e-07, -9.38114983e-07]],\n",
       " \n",
       "        ...,\n",
       " \n",
       "        [[-3.59088145e-45, -1.46219245e-36, -5.66778138e-33, ...,\n",
       "          -1.04839259e-29, -7.16978408e-28, -1.65603737e-26],\n",
       "         [-2.03702756e-43, -3.86864425e-35, -1.04725202e-31, ...,\n",
       "          -1.28154924e-28, -7.30247813e-27, -1.48824661e-25],\n",
       "         [-1.06314300e-41, -9.55887601e-34, -1.82156618e-30, ...,\n",
       "          -1.49063974e-27, -7.10538501e-26, -1.28093620e-24],\n",
       "         ...,\n",
       "         [-2.30979256e-45, -2.40786694e-38, -1.39463112e-33, ...,\n",
       "          -1.06223080e-25, -2.01362414e-23, -3.49337272e-22],\n",
       "         [-3.71249013e-47, -7.81585784e-40, -6.90477031e-35, ...,\n",
       "          -9.98119299e-27, -2.32783681e-24, -4.56180211e-23],\n",
       "         [-5.48980074e-49, -2.36927021e-41, -3.21806456e-36, ...,\n",
       "          -8.92425683e-28, -2.57086824e-25, -5.70526449e-24]],\n",
       " \n",
       "        [[-0.00000000e+00, -0.00000000e+00, -0.00000000e+00, ...,\n",
       "          -0.00000000e+00, -0.00000000e+00, -0.00000000e+00],\n",
       "         [-0.00000000e+00, -0.00000000e+00, -0.00000000e+00, ...,\n",
       "          -0.00000000e+00, -0.00000000e+00, -0.00000000e+00],\n",
       "         [-0.00000000e+00, -0.00000000e+00, -0.00000000e+00, ...,\n",
       "          -0.00000000e+00, -0.00000000e+00, -0.00000000e+00],\n",
       "         ...,\n",
       "         [-0.00000000e+00, -0.00000000e+00, -0.00000000e+00, ...,\n",
       "          -0.00000000e+00, -0.00000000e+00, -0.00000000e+00],\n",
       "         [-0.00000000e+00, -0.00000000e+00, -0.00000000e+00, ...,\n",
       "          -0.00000000e+00, -0.00000000e+00, -0.00000000e+00],\n",
       "         [-0.00000000e+00, -0.00000000e+00, -0.00000000e+00, ...,\n",
       "          -0.00000000e+00, -0.00000000e+00, -0.00000000e+00]],\n",
       " \n",
       "        [[ 0.00000000e+00,  0.00000000e+00,  0.00000000e+00, ...,\n",
       "           0.00000000e+00,  0.00000000e+00,  0.00000000e+00],\n",
       "         [ 0.00000000e+00,  0.00000000e+00,  0.00000000e+00, ...,\n",
       "           0.00000000e+00,  0.00000000e+00,  0.00000000e+00],\n",
       "         [ 0.00000000e+00,  0.00000000e+00,  0.00000000e+00, ...,\n",
       "           0.00000000e+00,  0.00000000e+00,  0.00000000e+00],\n",
       "         ...,\n",
       "         [ 0.00000000e+00,  0.00000000e+00,  0.00000000e+00, ...,\n",
       "           0.00000000e+00,  0.00000000e+00,  0.00000000e+00],\n",
       "         [ 0.00000000e+00,  0.00000000e+00,  0.00000000e+00, ...,\n",
       "           0.00000000e+00,  0.00000000e+00,  0.00000000e+00],\n",
       "         [ 0.00000000e+00,  0.00000000e+00,  0.00000000e+00, ...,\n",
       "           0.00000000e+00,  0.00000000e+00,  0.00000000e+00]]])}"
      ]
     },
     "execution_count": 8,
     "metadata": {},
     "output_type": "execute_result"
    }
   ],
   "source": [
    "testcase.wake_yzu ## y, z, and u_normdef data"
   ]
  },
  {
   "cell_type": "code",
   "execution_count": 9,
   "metadata": {
    "ExecuteTime": {
     "end_time": "2021-04-23T13:47:10.255790Z",
     "start_time": "2021-04-23T13:47:09.870156Z"
    }
   },
   "outputs": [
    {
     "data": {
      "image/png": "[encoded data removed]",
      "text/plain": [
       "<Figure size 432x288 with 2 Axes>"
      ]
     },
     "metadata": {
      "needs_background": "light"
     },
     "output_type": "display_data"
    }
   ],
   "source": [
    "testcase.plot(D=1) ## 2nd calculated downstream distance, so 5 D"
   ]
  },
  {
   "cell_type": "code",
   "execution_count": 10,
   "metadata": {
    "ExecuteTime": {
     "end_time": "2021-04-23T13:47:10.458701Z",
     "start_time": "2021-04-23T13:47:10.257394Z"
    }
   },
   "outputs": [
    {
     "data": {
      "image/png": "[encoded data removed]",
      "text/plain": [
       "<Figure size 432x288 with 2 Axes>"
      ]
     },
     "metadata": {
      "needs_background": "light"
     },
     "output_type": "display_data"
    }
   ],
   "source": [
    "testcase.plot(D=4) ## 5th calculated downstream distance, so 8 D"
   ]
  },
  {
   "cell_type": "markdown",
   "metadata": {},
   "source": [
    "# Finding optimum solution\n",
    "This test case simply computes the coefficients based on one set of input parameters and transformations, but does not test for an optimal solution.\n",
    "If desired, one should execute the following steps:\n",
    "* Generate coefficient ($.dict\\_LUT$) with set of input parameters and transformations (Training)\n",
    "* Use these coefficients in the wake model to compute key wake steering parameters and compose the wake (Testing)\n",
    "* Calculate power (or other measure of quality) and compare to original LES\n",
    "* Repeat with other input parameters and transformations until optimum is found"
   ]
  }
 ],
 "metadata": {
  "kernelspec": {
   "display_name": "Python 3",
   "language": "python",
   "name": "python3"
  },
  "language_info": {
   "codemirror_mode": {
    "name": "ipython",
    "version": 3
   },
   "file_extension": ".py",
   "mimetype": "text/x-python",
   "name": "python",
   "nbconvert_exporter": "python",
   "pygments_lexer": "ipython3",
   "version": "3.8.5"
  }
 },
 "nbformat": 4,
 "nbformat_minor": 4
}
